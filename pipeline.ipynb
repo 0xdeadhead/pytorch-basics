{
 "cells": [
  {
   "cell_type": "code",
   "execution_count": 21,
   "id": "4447ca83",
   "metadata": {},
   "outputs": [],
   "source": [
    "import torch\n",
    "import torch.nn as nn"
   ]
  },
  {
   "cell_type": "code",
   "execution_count": 41,
   "id": "e2c937e1",
   "metadata": {},
   "outputs": [],
   "source": [
    "X = torch.tensor([1, 2, 3, 4, 5], dtype=torch.float32)\n",
    "X = torch.reshape(X, (-1, 1))\n",
    "Y = X * 2"
   ]
  },
  {
   "cell_type": "code",
   "execution_count": 42,
   "id": "fb5a9c02",
   "metadata": {},
   "outputs": [
    {
     "data": {
      "text/plain": [
       "(tensor([[1.],\n",
       "         [2.],\n",
       "         [3.],\n",
       "         [4.],\n",
       "         [5.]]),\n",
       " tensor([[ 2.],\n",
       "         [ 4.],\n",
       "         [ 6.],\n",
       "         [ 8.],\n",
       "         [10.]]))"
      ]
     },
     "execution_count": 42,
     "metadata": {},
     "output_type": "execute_result"
    }
   ],
   "source": [
    "X, Y"
   ]
  },
  {
   "cell_type": "code",
   "execution_count": 43,
   "id": "60576224",
   "metadata": {},
   "outputs": [],
   "source": [
    "#W = torch.tensor(0.1, requires_grad=True)\n",
    "model = nn.Linear(X.shape[1], X.shape[1])"
   ]
  },
  {
   "cell_type": "code",
   "execution_count": 34,
   "id": "4b4f592d",
   "metadata": {},
   "outputs": [],
   "source": []
  },
  {
   "cell_type": "code",
   "execution_count": 44,
   "id": "5188c365",
   "metadata": {},
   "outputs": [],
   "source": [
    "loss = nn.MSELoss()\n",
    "optimizer = torch.optim.SGD(model.parameters(), lr=0.01)"
   ]
  },
  {
   "cell_type": "code",
   "execution_count": 46,
   "id": "01b0f863",
   "metadata": {},
   "outputs": [
    {
     "name": "stdout",
     "output_type": "stream",
     "text": [
      "---- loss  ---------- 0.00000200 <generator object Module.parameters at 0x7fb38a3ae2e0>\n",
      "---- loss  ---------- 0.00000102 <generator object Module.parameters at 0x7fb38a3ae270>\n",
      "---- loss  ---------- 0.00000052 <generator object Module.parameters at 0x7fb38a3ae270>\n",
      "---- loss  ---------- 0.00000026 <generator object Module.parameters at 0x7fb38a3ae270>\n",
      "---- loss  ---------- 0.00000013 <generator object Module.parameters at 0x7fb38a3ae270>\n",
      "---- loss  ---------- 0.00000007 <generator object Module.parameters at 0x7fb38a3ae270>\n",
      "---- loss  ---------- 0.00000003 <generator object Module.parameters at 0x7fb38a3ae270>\n",
      "---- loss  ---------- 0.00000002 <generator object Module.parameters at 0x7fb38a3ae270>\n",
      "---- loss  ---------- 0.00000001 <generator object Module.parameters at 0x7fb38a3ae270>\n",
      "---- loss  ---------- 0.00000000 <generator object Module.parameters at 0x7fb38a3ae270>\n"
     ]
    }
   ],
   "source": [
    "epochs = 1000\n",
    "for i in range(epochs):\n",
    "    Y_pred = model(X)\n",
    "    _loss = loss(Y, Y_pred)\n",
    "    _loss.backward()\n",
    "    optimizer.step()\n",
    "    optimizer.zero_grad()\n",
    "    if i % 100 == 0:\n",
    "        print(f'---- loss  ---------- {_loss:.8f}', model.parameters())"
   ]
  },
  {
   "cell_type": "code",
   "execution_count": 48,
   "id": "dd0dfa5a",
   "metadata": {},
   "outputs": [
    {
     "data": {
      "text/plain": [
       "tensor([20.0002], grad_fn=<AddBackward0>)"
      ]
     },
     "execution_count": 48,
     "metadata": {},
     "output_type": "execute_result"
    }
   ],
   "source": [
    "model(torch.tensor([10], dtype=torch.float32))"
   ]
  },
  {
   "cell_type": "code",
   "execution_count": null,
   "id": "4dc8b535",
   "metadata": {},
   "outputs": [],
   "source": []
  }
 ],
 "metadata": {
  "kernelspec": {
   "display_name": "Python 3 (ipykernel)",
   "language": "python",
   "name": "python3"
  },
  "language_info": {
   "codemirror_mode": {
    "name": "ipython",
    "version": 3
   },
   "file_extension": ".py",
   "mimetype": "text/x-python",
   "name": "python",
   "nbconvert_exporter": "python",
   "pygments_lexer": "ipython3",
   "version": "3.8.10"
  }
 },
 "nbformat": 4,
 "nbformat_minor": 5
}
