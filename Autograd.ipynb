{
 "cells": [
  {
   "cell_type": "code",
   "execution_count": 1,
   "id": "165ae16b",
   "metadata": {},
   "outputs": [],
   "source": [
    "import torch"
   ]
  },
  {
   "cell_type": "code",
   "execution_count": 22,
   "id": "bdbd7d31",
   "metadata": {},
   "outputs": [],
   "source": [
    "x = torch.randn((2, 2), requires_grad=True)"
   ]
  },
  {
   "cell_type": "code",
   "execution_count": 31,
   "id": "08fdbc07",
   "metadata": {},
   "outputs": [
    {
     "data": {
      "text/plain": [
       "tensor([[ 1.2826,  0.6443],\n",
       "        [-1.1700,  0.4183]], requires_grad=True)"
      ]
     },
     "execution_count": 31,
     "metadata": {},
     "output_type": "execute_result"
    }
   ],
   "source": [
    "x"
   ]
  },
  {
   "cell_type": "code",
   "execution_count": 34,
   "id": "f1e5ed14",
   "metadata": {},
   "outputs": [
    {
     "data": {
      "text/plain": [
       "tensor([[ 1.2826,  0.6443],\n",
       "        [-1.1700,  0.4183]])"
      ]
     },
     "execution_count": 34,
     "metadata": {},
     "output_type": "execute_result"
    }
   ],
   "source": [
    "x.requires_grad_(False)"
   ]
  },
  {
   "cell_type": "code",
   "execution_count": 38,
   "id": "bcd8ea5e",
   "metadata": {},
   "outputs": [
    {
     "data": {
      "text/plain": [
       "tensor([[ 1.2826,  0.6443],\n",
       "        [-1.1700,  0.4183]])"
      ]
     },
     "execution_count": 38,
     "metadata": {},
     "output_type": "execute_result"
    }
   ],
   "source": [
    "x.detach_()"
   ]
  },
  {
   "cell_type": "code",
   "execution_count": 39,
   "id": "a308a25e",
   "metadata": {},
   "outputs": [],
   "source": [
    "with torch.no_grad():\n",
    "    pass"
   ]
  },
  {
   "cell_type": "code",
   "execution_count": 45,
   "id": "ef8307ad",
   "metadata": {},
   "outputs": [],
   "source": [
    "weights = torch.ones(2, requires_grad=True)"
   ]
  },
  {
   "cell_type": "code",
   "execution_count": 47,
   "id": "dedcbb1a",
   "metadata": {},
   "outputs": [
    {
     "name": "stdout",
     "output_type": "stream",
     "text": [
      "tensor([22., 22.])\n",
      "tensor([24., 24.])\n",
      "tensor([26., 26.])\n",
      "tensor([28., 28.])\n",
      "tensor([30., 30.])\n",
      "tensor([32., 32.])\n",
      "tensor([34., 34.])\n",
      "tensor([36., 36.])\n",
      "tensor([38., 38.])\n",
      "tensor([40., 40.])\n"
     ]
    }
   ],
   "source": [
    "for epoch in range(10):\n",
    "    y = (weights * 2).sum()\n",
    "    y.backward()\n",
    "    print(weights.grad)"
   ]
  }
 ],
 "metadata": {
  "kernelspec": {
   "display_name": "Python 3 (ipykernel)",
   "language": "python",
   "name": "python3"
  },
  "language_info": {
   "codemirror_mode": {
    "name": "ipython",
    "version": 3
   },
   "file_extension": ".py",
   "mimetype": "text/x-python",
   "name": "python",
   "nbconvert_exporter": "python",
   "pygments_lexer": "ipython3",
   "version": "3.8.10"
  }
 },
 "nbformat": 4,
 "nbformat_minor": 5
}
