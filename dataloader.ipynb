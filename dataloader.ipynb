{
 "cells": [
  {
   "cell_type": "code",
   "execution_count": 2,
   "id": "e4fa7483",
   "metadata": {},
   "outputs": [],
   "source": [
    "import torch\n",
    "from torch.utils.data import DataLoader, Dataset\n",
    "import pandas as pd\n",
    "import numpy as np"
   ]
  },
  {
   "cell_type": "code",
   "execution_count": 123,
   "id": "cf883fca",
   "metadata": {},
   "outputs": [],
   "source": [
    "class TitanicDataset(Dataset):\n",
    "\n",
    "    def __init__(self, x_np_arr, y_np_arr, transform=None):\n",
    "        self.x = torch.from_numpy(x_np_arr)\n",
    "        self.y = torch.from_numpy(y_np_arr)\n",
    "        self.transform = transform\n",
    "\n",
    "    def __len__(self):\n",
    "        return self.x.shape[0]\n",
    "\n",
    "    def __getitem__(self, index):\n",
    "        if self.transform != None:\n",
    "            return self.transform((self.x[index], self.y[index]))\n",
    "        else:\n",
    "            return self.x[index], self.y[index]"
   ]
  },
  {
   "cell_type": "code",
   "execution_count": 51,
   "id": "074cc16b",
   "metadata": {},
   "outputs": [],
   "source": [
    "df = pd.read_csv(\"./titanic.csv\")"
   ]
  },
  {
   "cell_type": "code",
   "execution_count": 52,
   "id": "a14799cf",
   "metadata": {},
   "outputs": [
    {
     "name": "stdout",
     "output_type": "stream",
     "text": [
      "Pclass        0\n",
      "Sex           0\n",
      "Age         177\n",
      "SibSp         0\n",
      "Parch         0\n",
      "Fare          0\n",
      "Embarked      2\n",
      "dtype: int64\n"
     ]
    },
    {
     "data": {
      "text/html": [
       "<div>\n",
       "<style scoped>\n",
       "    .dataframe tbody tr th:only-of-type {\n",
       "        vertical-align: middle;\n",
       "    }\n",
       "\n",
       "    .dataframe tbody tr th {\n",
       "        vertical-align: top;\n",
       "    }\n",
       "\n",
       "    .dataframe thead th {\n",
       "        text-align: right;\n",
       "    }\n",
       "</style>\n",
       "<table border=\"1\" class=\"dataframe\">\n",
       "  <thead>\n",
       "    <tr style=\"text-align: right;\">\n",
       "      <th></th>\n",
       "      <th>Pclass</th>\n",
       "      <th>Sex</th>\n",
       "      <th>Age</th>\n",
       "      <th>SibSp</th>\n",
       "      <th>Parch</th>\n",
       "      <th>Fare</th>\n",
       "      <th>Embarked</th>\n",
       "    </tr>\n",
       "  </thead>\n",
       "  <tbody>\n",
       "    <tr>\n",
       "      <th>0</th>\n",
       "      <td>3</td>\n",
       "      <td>male</td>\n",
       "      <td>22.0</td>\n",
       "      <td>1</td>\n",
       "      <td>0</td>\n",
       "      <td>7.2500</td>\n",
       "      <td>S</td>\n",
       "    </tr>\n",
       "    <tr>\n",
       "      <th>1</th>\n",
       "      <td>1</td>\n",
       "      <td>female</td>\n",
       "      <td>38.0</td>\n",
       "      <td>1</td>\n",
       "      <td>0</td>\n",
       "      <td>71.2833</td>\n",
       "      <td>C</td>\n",
       "    </tr>\n",
       "    <tr>\n",
       "      <th>2</th>\n",
       "      <td>3</td>\n",
       "      <td>female</td>\n",
       "      <td>26.0</td>\n",
       "      <td>0</td>\n",
       "      <td>0</td>\n",
       "      <td>7.9250</td>\n",
       "      <td>S</td>\n",
       "    </tr>\n",
       "    <tr>\n",
       "      <th>3</th>\n",
       "      <td>1</td>\n",
       "      <td>female</td>\n",
       "      <td>35.0</td>\n",
       "      <td>1</td>\n",
       "      <td>0</td>\n",
       "      <td>53.1000</td>\n",
       "      <td>S</td>\n",
       "    </tr>\n",
       "    <tr>\n",
       "      <th>4</th>\n",
       "      <td>3</td>\n",
       "      <td>male</td>\n",
       "      <td>35.0</td>\n",
       "      <td>0</td>\n",
       "      <td>0</td>\n",
       "      <td>8.0500</td>\n",
       "      <td>S</td>\n",
       "    </tr>\n",
       "  </tbody>\n",
       "</table>\n",
       "</div>"
      ],
      "text/plain": [
       "   Pclass     Sex   Age  SibSp  Parch     Fare Embarked\n",
       "0       3    male  22.0      1      0   7.2500        S\n",
       "1       1  female  38.0      1      0  71.2833        C\n",
       "2       3  female  26.0      0      0   7.9250        S\n",
       "3       1  female  35.0      1      0  53.1000        S\n",
       "4       3    male  35.0      0      0   8.0500        S"
      ]
     },
     "execution_count": 52,
     "metadata": {},
     "output_type": "execute_result"
    }
   ],
   "source": [
    "X = df.drop(columns=['Survived', 'Name', 'Ticket', 'Cabin', 'PassengerId'])\n",
    "print(X.isna().sum())\n",
    "X.head()"
   ]
  },
  {
   "cell_type": "code",
   "execution_count": 53,
   "id": "bbff53a8",
   "metadata": {},
   "outputs": [],
   "source": [
    "from sklearn.impute import SimpleImputer\n",
    "from sklearn.preprocessing import OneHotEncoder\n",
    "from sklearn.compose import ColumnTransformer"
   ]
  },
  {
   "cell_type": "code",
   "execution_count": 54,
   "id": "bf4813fb",
   "metadata": {},
   "outputs": [],
   "source": [
    "imputer = SimpleImputer(strategy='mean')\n",
    "ohe = OneHotEncoder()\n",
    "transformer = ColumnTransformer(transformers=[('impute', imputer, ['Age']),\n",
    "                                              ('ohe', ohe, ['Sex',\n",
    "                                                            'Embarked'])],\n",
    "                                remainder='passthrough')\n",
    "X = transformer.fit_transform(X)"
   ]
  },
  {
   "cell_type": "code",
   "execution_count": 55,
   "id": "effbfffc",
   "metadata": {},
   "outputs": [
    {
     "data": {
      "text/plain": [
       "(891, 11)"
      ]
     },
     "execution_count": 55,
     "metadata": {},
     "output_type": "execute_result"
    }
   ],
   "source": [
    "X.shape"
   ]
  },
  {
   "cell_type": "code",
   "execution_count": 56,
   "id": "79088260",
   "metadata": {},
   "outputs": [],
   "source": [
    "Y = df['Survived']\n",
    "Y.isna().sum()\n",
    "Y = Y.values"
   ]
  },
  {
   "cell_type": "code",
   "execution_count": 102,
   "id": "0a27e417",
   "metadata": {},
   "outputs": [],
   "source": [
    "dataset = TitanicDataset(X, Y)"
   ]
  },
  {
   "cell_type": "code",
   "execution_count": 103,
   "id": "4de48c0f",
   "metadata": {},
   "outputs": [
    {
     "data": {
      "text/plain": [
       "(tensor([[22.0000,  0.0000,  1.0000,  0.0000,  0.0000,  1.0000,  0.0000,  3.0000,\n",
       "           1.0000,  0.0000,  7.2500],\n",
       "         [38.0000,  1.0000,  0.0000,  1.0000,  0.0000,  0.0000,  0.0000,  1.0000,\n",
       "           1.0000,  0.0000, 71.2833],\n",
       "         [26.0000,  1.0000,  0.0000,  0.0000,  0.0000,  1.0000,  0.0000,  3.0000,\n",
       "           0.0000,  0.0000,  7.9250],\n",
       "         [35.0000,  1.0000,  0.0000,  0.0000,  0.0000,  1.0000,  0.0000,  1.0000,\n",
       "           1.0000,  0.0000, 53.1000],\n",
       "         [35.0000,  0.0000,  1.0000,  0.0000,  0.0000,  1.0000,  0.0000,  3.0000,\n",
       "           0.0000,  0.0000,  8.0500],\n",
       "         [29.6991,  0.0000,  1.0000,  0.0000,  1.0000,  0.0000,  0.0000,  3.0000,\n",
       "           0.0000,  0.0000,  8.4583],\n",
       "         [54.0000,  0.0000,  1.0000,  0.0000,  0.0000,  1.0000,  0.0000,  1.0000,\n",
       "           0.0000,  0.0000, 51.8625],\n",
       "         [ 2.0000,  0.0000,  1.0000,  0.0000,  0.0000,  1.0000,  0.0000,  3.0000,\n",
       "           3.0000,  1.0000, 21.0750],\n",
       "         [27.0000,  1.0000,  0.0000,  0.0000,  0.0000,  1.0000,  0.0000,  3.0000,\n",
       "           0.0000,  2.0000, 11.1333],\n",
       "         [14.0000,  1.0000,  0.0000,  1.0000,  0.0000,  0.0000,  0.0000,  2.0000,\n",
       "           1.0000,  0.0000, 30.0708]], dtype=torch.float64),\n",
       " tensor([0, 1, 1, 1, 0, 0, 0, 0, 1, 1]))"
      ]
     },
     "execution_count": 103,
     "metadata": {},
     "output_type": "execute_result"
    }
   ],
   "source": [
    "dataset[0:10]"
   ]
  },
  {
   "cell_type": "code",
   "execution_count": 124,
   "id": "d43e9491",
   "metadata": {},
   "outputs": [],
   "source": [
    "class Scaler:\n",
    "\n",
    "    def __init__(self, scale_factor=1):\n",
    "        self.scale_factor = scale_factor\n",
    "\n",
    "    def __call__(self, sample):\n",
    "        return sample[0] * self.scale_factor, self.scale_factor * sample[1]\n",
    "\n",
    "\n",
    "dataset_scaled = TitanicDataset(X, Y, transform=Scaler(2))"
   ]
  },
  {
   "cell_type": "code",
   "execution_count": 127,
   "id": "d313f8f4",
   "metadata": {},
   "outputs": [
    {
     "data": {
      "text/plain": [
       "(tensor([ 76.0000,   2.0000,   0.0000,   2.0000,   0.0000,   0.0000,   0.0000,\n",
       "           2.0000,   2.0000,   0.0000, 142.5666], dtype=torch.float64),\n",
       " tensor(2))"
      ]
     },
     "execution_count": 127,
     "metadata": {},
     "output_type": "execute_result"
    }
   ],
   "source": [
    "dataset_scaled[1]"
   ]
  },
  {
   "cell_type": "code",
   "execution_count": 128,
   "id": "ab53bf36",
   "metadata": {},
   "outputs": [
    {
     "data": {
      "text/plain": [
       "(tensor([38.0000,  1.0000,  0.0000,  1.0000,  0.0000,  0.0000,  0.0000,  1.0000,\n",
       "          1.0000,  0.0000, 71.2833], dtype=torch.float64),\n",
       " tensor(1))"
      ]
     },
     "execution_count": 128,
     "metadata": {},
     "output_type": "execute_result"
    }
   ],
   "source": [
    "dataset[1]"
   ]
  },
  {
   "cell_type": "code",
   "execution_count": 98,
   "id": "edcc7727",
   "metadata": {},
   "outputs": [
    {
     "data": {
      "text/plain": [
       "tensor([2., 4., 6.], dtype=torch.float64)"
      ]
     },
     "execution_count": 98,
     "metadata": {},
     "output_type": "execute_result"
    }
   ],
   "source": []
  },
  {
   "cell_type": "code",
   "execution_count": null,
   "id": "e4290ccb",
   "metadata": {},
   "outputs": [],
   "source": []
  }
 ],
 "metadata": {
  "kernelspec": {
   "display_name": "Python 3 (ipykernel)",
   "language": "python",
   "name": "python3"
  },
  "language_info": {
   "codemirror_mode": {
    "name": "ipython",
    "version": 3
   },
   "file_extension": ".py",
   "mimetype": "text/x-python",
   "name": "python",
   "nbconvert_exporter": "python",
   "pygments_lexer": "ipython3",
   "version": "3.8.10"
  }
 },
 "nbformat": 4,
 "nbformat_minor": 5
}
