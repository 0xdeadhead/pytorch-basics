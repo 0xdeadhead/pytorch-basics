{
  "nbformat": 4,
  "nbformat_minor": 0,
  "metadata": {
    "colab": {
      "provenance": [],
      "gpuType": "T4"
    },
    "kernelspec": {
      "name": "python3",
      "display_name": "Python 3"
    },
    "language_info": {
      "name": "python"
    },
    "accelerator": "GPU"
  },
  "cells": [
    {
      "cell_type": "code",
      "execution_count": null,
      "metadata": {
        "id": "Az9RohUvin8I"
      },
      "outputs": [],
      "source": [
        "from torchvision import models"
      ]
    },
    {
      "cell_type": "code",
      "source": [
        "models.list_models()"
      ],
      "metadata": {
        "colab": {
          "base_uri": "https://localhost:8080/"
        },
        "id": "YCFLhzHdkFBj",
        "outputId": "782f7a53-203f-4687-c4c7-0de3794c6130"
      },
      "execution_count": null,
      "outputs": [
        {
          "output_type": "execute_result",
          "data": {
            "text/plain": [
              "['alexnet',\n",
              " 'convnext_base',\n",
              " 'convnext_large',\n",
              " 'convnext_small',\n",
              " 'convnext_tiny',\n",
              " 'deeplabv3_mobilenet_v3_large',\n",
              " 'deeplabv3_resnet101',\n",
              " 'deeplabv3_resnet50',\n",
              " 'densenet121',\n",
              " 'densenet161',\n",
              " 'densenet169',\n",
              " 'densenet201',\n",
              " 'efficientnet_b0',\n",
              " 'efficientnet_b1',\n",
              " 'efficientnet_b2',\n",
              " 'efficientnet_b3',\n",
              " 'efficientnet_b4',\n",
              " 'efficientnet_b5',\n",
              " 'efficientnet_b6',\n",
              " 'efficientnet_b7',\n",
              " 'efficientnet_v2_l',\n",
              " 'efficientnet_v2_m',\n",
              " 'efficientnet_v2_s',\n",
              " 'fasterrcnn_mobilenet_v3_large_320_fpn',\n",
              " 'fasterrcnn_mobilenet_v3_large_fpn',\n",
              " 'fasterrcnn_resnet50_fpn',\n",
              " 'fasterrcnn_resnet50_fpn_v2',\n",
              " 'fcn_resnet101',\n",
              " 'fcn_resnet50',\n",
              " 'fcos_resnet50_fpn',\n",
              " 'googlenet',\n",
              " 'inception_v3',\n",
              " 'keypointrcnn_resnet50_fpn',\n",
              " 'lraspp_mobilenet_v3_large',\n",
              " 'maskrcnn_resnet50_fpn',\n",
              " 'maskrcnn_resnet50_fpn_v2',\n",
              " 'maxvit_t',\n",
              " 'mc3_18',\n",
              " 'mnasnet0_5',\n",
              " 'mnasnet0_75',\n",
              " 'mnasnet1_0',\n",
              " 'mnasnet1_3',\n",
              " 'mobilenet_v2',\n",
              " 'mobilenet_v3_large',\n",
              " 'mobilenet_v3_small',\n",
              " 'mvit_v1_b',\n",
              " 'mvit_v2_s',\n",
              " 'quantized_googlenet',\n",
              " 'quantized_inception_v3',\n",
              " 'quantized_mobilenet_v2',\n",
              " 'quantized_mobilenet_v3_large',\n",
              " 'quantized_resnet18',\n",
              " 'quantized_resnet50',\n",
              " 'quantized_resnext101_32x8d',\n",
              " 'quantized_resnext101_64x4d',\n",
              " 'quantized_shufflenet_v2_x0_5',\n",
              " 'quantized_shufflenet_v2_x1_0',\n",
              " 'quantized_shufflenet_v2_x1_5',\n",
              " 'quantized_shufflenet_v2_x2_0',\n",
              " 'r2plus1d_18',\n",
              " 'r3d_18',\n",
              " 'raft_large',\n",
              " 'raft_small',\n",
              " 'regnet_x_16gf',\n",
              " 'regnet_x_1_6gf',\n",
              " 'regnet_x_32gf',\n",
              " 'regnet_x_3_2gf',\n",
              " 'regnet_x_400mf',\n",
              " 'regnet_x_800mf',\n",
              " 'regnet_x_8gf',\n",
              " 'regnet_y_128gf',\n",
              " 'regnet_y_16gf',\n",
              " 'regnet_y_1_6gf',\n",
              " 'regnet_y_32gf',\n",
              " 'regnet_y_3_2gf',\n",
              " 'regnet_y_400mf',\n",
              " 'regnet_y_800mf',\n",
              " 'regnet_y_8gf',\n",
              " 'resnet101',\n",
              " 'resnet152',\n",
              " 'resnet18',\n",
              " 'resnet34',\n",
              " 'resnet50',\n",
              " 'resnext101_32x8d',\n",
              " 'resnext101_64x4d',\n",
              " 'resnext50_32x4d',\n",
              " 'retinanet_resnet50_fpn',\n",
              " 'retinanet_resnet50_fpn_v2',\n",
              " 's3d',\n",
              " 'shufflenet_v2_x0_5',\n",
              " 'shufflenet_v2_x1_0',\n",
              " 'shufflenet_v2_x1_5',\n",
              " 'shufflenet_v2_x2_0',\n",
              " 'squeezenet1_0',\n",
              " 'squeezenet1_1',\n",
              " 'ssd300_vgg16',\n",
              " 'ssdlite320_mobilenet_v3_large',\n",
              " 'swin3d_b',\n",
              " 'swin3d_s',\n",
              " 'swin3d_t',\n",
              " 'swin_b',\n",
              " 'swin_s',\n",
              " 'swin_t',\n",
              " 'swin_v2_b',\n",
              " 'swin_v2_s',\n",
              " 'swin_v2_t',\n",
              " 'vgg11',\n",
              " 'vgg11_bn',\n",
              " 'vgg13',\n",
              " 'vgg13_bn',\n",
              " 'vgg16',\n",
              " 'vgg16_bn',\n",
              " 'vgg19',\n",
              " 'vgg19_bn',\n",
              " 'vit_b_16',\n",
              " 'vit_b_32',\n",
              " 'vit_h_14',\n",
              " 'vit_l_16',\n",
              " 'vit_l_32',\n",
              " 'wide_resnet101_2',\n",
              " 'wide_resnet50_2']"
            ]
          },
          "metadata": {},
          "execution_count": 2
        }
      ]
    },
    {
      "cell_type": "code",
      "source": [
        "from torchvision.datasets import CIFAR10\n",
        "from torch.utils.data import DataLoader\n",
        "from torchvision.transforms import ToTensor,RandomResizedCrop,Normalize,Compose\n",
        "\n",
        "train_transforms=Compose([\n",
        "    RandomResizedCrop(224),\n",
        "    ToTensor(),\n",
        "    Normalize((0.5,0.5,0.5),(0.5,0.5,0.5))\n",
        "])\n",
        "test_transforms=Compose([\n",
        "    RandomResizedCrop(224),\n",
        "    ToTensor(),\n",
        "    Normalize((0.5,0.5,0.5),(0.5,0.5,0.5))\n",
        "])\n",
        "train_set=CIFAR10(root=\"./data\",train=True,transform=train_transforms,download=True)\n",
        "test_set=CIFAR10(root=\"./data\",train=False,transform=train_transforms,download=True)"
      ],
      "metadata": {
        "colab": {
          "base_uri": "https://localhost:8080/"
        },
        "id": "Oo_FfeTeluzP",
        "outputId": "944d7f96-d755-497f-f0d3-45bafbc6ee9f"
      },
      "execution_count": null,
      "outputs": [
        {
          "output_type": "stream",
          "name": "stdout",
          "text": [
            "Downloading https://www.cs.toronto.edu/~kriz/cifar-10-python.tar.gz to ./data/cifar-10-python.tar.gz\n"
          ]
        },
        {
          "output_type": "stream",
          "name": "stderr",
          "text": [
            "100%|██████████| 170498071/170498071 [00:12<00:00, 13187710.90it/s]\n"
          ]
        },
        {
          "output_type": "stream",
          "name": "stdout",
          "text": [
            "Extracting ./data/cifar-10-python.tar.gz to ./data\n",
            "Files already downloaded and verified\n"
          ]
        }
      ]
    },
    {
      "cell_type": "code",
      "source": [
        "vgg_net=models.vgg16_bn()"
      ],
      "metadata": {
        "colab": {
          "base_uri": "https://localhost:8080/"
        },
        "id": "OGE7pgAy_Dci",
        "outputId": "f070c0bc-7761-4f24-e1dd-2736865d0371"
      },
      "execution_count": null,
      "outputs": [
        {
          "output_type": "stream",
          "name": "stderr",
          "text": [
            "/usr/local/lib/python3.10/dist-packages/torchvision/models/_utils.py:208: UserWarning: The parameter 'pretrained' is deprecated since 0.13 and may be removed in the future, please use 'weights' instead.\n",
            "  warnings.warn(\n",
            "/usr/local/lib/python3.10/dist-packages/torchvision/models/_utils.py:223: UserWarning: Arguments other than a weight enum or `None` for 'weights' are deprecated since 0.13 and may be removed in the future. The current behavior is equivalent to passing `weights=VGG16_BN_Weights.IMAGENET1K_V1`. You can also use `weights=VGG16_BN_Weights.DEFAULT` to get the most up-to-date weights.\n",
            "  warnings.warn(msg)\n",
            "Downloading: \"https://download.pytorch.org/models/vgg16_bn-6c64b313.pth\" to /root/.cache/torch/hub/checkpoints/vgg16_bn-6c64b313.pth\n",
            "100%|██████████| 528M/528M [00:06<00:00, 82.1MB/s]\n"
          ]
        }
      ]
    },
    {
      "cell_type": "code",
      "source": [
        "import torch\n",
        "import torch.nn as nn\n",
        "import torch.optim as optim\n",
        "\n",
        "device=torch.device(\"cuda:0\" if torch.cuda.is_available() else \"cpu\")"
      ],
      "metadata": {
        "id": "bl9M4w_JJeMC"
      },
      "execution_count": null,
      "outputs": []
    },
    {
      "cell_type": "code",
      "source": [
        "vgg_gpu=vgg_net.to(device)\n",
        "criterion=nn.CrossEntropyLoss()\n",
        "optimizer=optim.Adam(vgg_gpu.parameters(),lr=0.01)\n"
      ],
      "metadata": {
        "id": "37JMLPnDKA1f"
      },
      "execution_count": null,
      "outputs": []
    },
    {
      "cell_type": "code",
      "source": [
        "loss_epoch_arr=[]\n",
        "max_epochs=1\n",
        "\n",
        "train_loader=DataLoader(train_set,batch_size=32,shuffle=True)\n",
        "test_loader=DataLoader(test_set,batch_size=32,shuffle=False)\n",
        "\n",
        "for epoch in range(max_epochs):\n",
        "  for i,data in enumerate(train_loader,0):\n",
        "    features,labels=data[0].to(device),data[1].to(device)\n",
        "    optimizer.zero_grad()\n",
        "    predicted=vgg_gpu(features)\n",
        "    loss=criterion(predicted,labels)\n",
        "    loss.backward()\n",
        "    optimizer.step()\n",
        "    del features,labels\n",
        "\n",
        "    if i % 100 == 0:\n",
        "      loss_epoch_arr.append(loss.item())\n",
        "      print(f\"loss:{loss.item()}\")"
      ],
      "metadata": {
        "colab": {
          "base_uri": "https://localhost:8080/"
        },
        "id": "K40LACtiKEka",
        "outputId": "41897589-f8ab-410d-c66a-cfb5e477e684"
      },
      "execution_count": null,
      "outputs": [
        {
          "output_type": "stream",
          "name": "stdout",
          "text": [
            "loss:6.637482166290283\n",
            "loss:5.902631759643555\n",
            "loss:2.358614444732666\n",
            "loss:2.3660292625427246\n",
            "loss:2.2677419185638428\n",
            "loss:2.3826379776000977\n",
            "loss:2.3325982093811035\n",
            "loss:2.300356388092041\n",
            "loss:2.3168423175811768\n",
            "loss:2.302708148956299\n",
            "loss:2.2983949184417725\n",
            "loss:2.307138204574585\n",
            "loss:2.31060791015625\n",
            "loss:2.3207614421844482\n",
            "loss:2.258958578109741\n",
            "loss:2.282090663909912\n"
          ]
        }
      ]
    },
    {
      "cell_type": "code",
      "source": [
        "import matplotlib.pyplot as plt\n",
        "\n",
        "plt.plot(loss_epoch_arr)\n",
        "plt.show()"
      ],
      "metadata": {
        "colab": {
          "base_uri": "https://localhost:8080/",
          "height": 430
        },
        "id": "9IsnJ45RSs2y",
        "outputId": "7f371691-1efd-4a67-a34b-f5d0c78e53f1"
      },
      "execution_count": null,
      "outputs": [
        {
          "output_type": "display_data",
          "data": {
            "text/plain": [
              "<Figure size 640x480 with 1 Axes>"
            ],
            "image/png": "[encoded data removed]"
          },
          "metadata": {}
        }
      ]
    },
    {
      "cell_type": "code",
      "source": [
        "torch.cuda.empty_cache()"
      ],
      "metadata": {
        "id": "DToYO7Y0WXWB"
      },
      "execution_count": null,
      "outputs": []
    },
    {
      "cell_type": "code",
      "source": [
        "def evaluation(data_loader,model):\n",
        "  running_total=0\n",
        "  running_correct_preds=0\n",
        "  for features,labels in data_loader:\n",
        "    features,labels=features.to(device),labels.to(device)\n",
        "    outputs=model(features)\n",
        "    _,predictions=torch.max(outputs.data,1)\n",
        "    running_total+=labels.size(0)\n",
        "    running_correct_preds+=(predictions==labels).sum().item()\n",
        "  return 100*running_correct_preds/running_total"
      ],
      "metadata": {
        "id": "op_DqlUU8xw2"
      },
      "execution_count": null,
      "outputs": []
    },
    {
      "cell_type": "code",
      "source": [
        "evaluation(test_loader,vgg_gpu)"
      ],
      "metadata": {
        "colab": {
          "base_uri": "https://localhost:8080/"
        },
        "id": "ErIbqS-iCD3Z",
        "outputId": "9c5d7532-14ef-4398-e358-0a74ab28654f"
      },
      "execution_count": null,
      "outputs": [
        {
          "output_type": "execute_result",
          "data": {
            "text/plain": [
              "10.11"
            ]
          },
          "metadata": {},
          "execution_count": 12
        }
      ]
    },
    {
      "cell_type": "code",
      "source": [
        "torch.cuda.empty_cache()"
      ],
      "metadata": {
        "id": "P_D_Y1K6CJtq"
      },
      "execution_count": null,
      "outputs": []
    }
  ]
}